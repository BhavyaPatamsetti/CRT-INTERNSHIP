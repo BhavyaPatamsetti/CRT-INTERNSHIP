{
 "cells": [
  {
   "cell_type": "code",
   "execution_count": 1,
   "metadata": {
    "execution": {
     "iopub.execute_input": "2022-12-05T06:50:08.579681Z",
     "iopub.status.busy": "2022-12-05T06:50:08.579351Z",
     "iopub.status.idle": "2022-12-05T06:50:16.2968Z",
     "shell.execute_reply": "2022-12-05T06:50:16.295699Z",
     "shell.execute_reply.started": "2022-12-05T06:50:08.579651Z"
    },
    "executionInfo": {
     "elapsed": 7,
     "status": "ok",
     "timestamp": 1670222625584,
     "user": {
      "displayName": "Ruturaj Ranpise",
      "userId": "13134967451216320931"
     },
     "user_tz": -330
    },
    "id": "DHflMFK6D8uk",
    "outputId": "84e55fe7-3fc8-48d6-d8a5-f0a2e4de92c4"
   },
   "outputs": [
    {
     "data": {
      "text/html": [
       "<div>\n",
       "<style scoped>\n",
       "    .dataframe tbody tr th:only-of-type {\n",
       "        vertical-align: middle;\n",
       "    }\n",
       "\n",
       "    .dataframe tbody tr th {\n",
       "        vertical-align: top;\n",
       "    }\n",
       "\n",
       "    .dataframe thead th {\n",
       "        text-align: right;\n",
       "    }\n",
       "</style>\n",
       "<table border=\"1\" class=\"dataframe\">\n",
       "  <thead>\n",
       "    <tr style=\"text-align: right;\">\n",
       "      <th></th>\n",
       "      <th>userId</th>\n",
       "      <th>productId</th>\n",
       "      <th>Rating</th>\n",
       "      <th>timestamp</th>\n",
       "    </tr>\n",
       "  </thead>\n",
       "  <tbody>\n",
       "    <tr>\n",
       "      <th>0</th>\n",
       "      <td>AKM1MP6P0OYPR</td>\n",
       "      <td>0132793040</td>\n",
       "      <td>5.0</td>\n",
       "      <td>1365811200</td>\n",
       "    </tr>\n",
       "    <tr>\n",
       "      <th>1</th>\n",
       "      <td>A2CX7LUOHB2NDG</td>\n",
       "      <td>0321732944</td>\n",
       "      <td>5.0</td>\n",
       "      <td>1341100800</td>\n",
       "    </tr>\n",
       "    <tr>\n",
       "      <th>2</th>\n",
       "      <td>A2NWSAGRHCP8N5</td>\n",
       "      <td>0439886341</td>\n",
       "      <td>1.0</td>\n",
       "      <td>1367193600</td>\n",
       "    </tr>\n",
       "    <tr>\n",
       "      <th>3</th>\n",
       "      <td>A2WNBOD3WNDNKT</td>\n",
       "      <td>0439886341</td>\n",
       "      <td>3.0</td>\n",
       "      <td>1374451200</td>\n",
       "    </tr>\n",
       "    <tr>\n",
       "      <th>4</th>\n",
       "      <td>A1GI0U4ZRJA8WN</td>\n",
       "      <td>0439886341</td>\n",
       "      <td>1.0</td>\n",
       "      <td>1334707200</td>\n",
       "    </tr>\n",
       "  </tbody>\n",
       "</table>\n",
       "</div>"
      ],
      "text/plain": [
       "           userId   productId  Rating   timestamp\n",
       "0   AKM1MP6P0OYPR  0132793040     5.0  1365811200\n",
       "1  A2CX7LUOHB2NDG  0321732944     5.0  1341100800\n",
       "2  A2NWSAGRHCP8N5  0439886341     1.0  1367193600\n",
       "3  A2WNBOD3WNDNKT  0439886341     3.0  1374451200\n",
       "4  A1GI0U4ZRJA8WN  0439886341     1.0  1334707200"
      ]
     },
     "execution_count": 1,
     "metadata": {},
     "output_type": "execute_result"
    }
   ],
   "source": [
    "import pandas as pd\n",
    "import numpy as np\n",
    "import seaborn as sns\n",
    "import matplotlib.pyplot as plt\n",
    "import warnings\n",
    "warnings.filterwarnings('ignore')\n",
    "\n",
    "df = pd.read_csv(\"amazon_product_reviews.csv\",names=['userId', 'productId','Rating','timestamp'])\n",
    "                 \n",
    "df.head()"
   ]
  },
  {
   "cell_type": "code",
   "execution_count": 2,
   "metadata": {
    "execution": {
     "iopub.execute_input": "2022-12-05T06:50:16.298347Z",
     "iopub.status.busy": "2022-12-05T06:50:16.298031Z",
     "iopub.status.idle": "2022-12-05T06:50:17.008963Z",
     "shell.execute_reply": "2022-12-05T06:50:17.007635Z",
     "shell.execute_reply.started": "2022-12-05T06:50:16.298318Z"
    },
    "executionInfo": {
     "elapsed": 19,
     "status": "ok",
     "timestamp": 1670222626153,
     "user": {
      "displayName": "Ruturaj Ranpise",
      "userId": "13134967451216320931"
     },
     "user_tz": -330
    },
    "id": "YrMU8ihMFCBb",
    "outputId": "6e2aba37-2001-4405-cc41-271f0f0f2f01"
   },
   "outputs": [
    {
     "data": {
      "text/plain": [
       "userId       0\n",
       "productId    0\n",
       "Rating       0\n",
       "timestamp    0\n",
       "dtype: int64"
      ]
     },
     "execution_count": 2,
     "metadata": {},
     "output_type": "execute_result"
    }
   ],
   "source": [
    "df.isnull().sum()"
   ]
  },
  {
   "cell_type": "code",
   "execution_count": 3,
   "metadata": {
    "execution": {
     "iopub.execute_input": "2022-12-05T06:50:17.011842Z",
     "iopub.status.busy": "2022-12-05T06:50:17.011418Z",
     "iopub.status.idle": "2022-12-05T06:50:17.017592Z",
     "shell.execute_reply": "2022-12-05T06:50:17.016305Z",
     "shell.execute_reply.started": "2022-12-05T06:50:17.011811Z"
    },
    "executionInfo": {
     "elapsed": 18,
     "status": "ok",
     "timestamp": 1670222626153,
     "user": {
      "displayName": "Ruturaj Ranpise",
      "userId": "13134967451216320931"
     },
     "user_tz": -330
    },
    "id": "7i0c9_cbFD7F",
    "outputId": "142e5c72-ccfb-4336-dbb5-d46a56ca60c8"
   },
   "outputs": [
    {
     "name": "stdout",
     "output_type": "stream",
     "text": [
      "(7824482, 4)\n"
     ]
    }
   ],
   "source": [
    "print(df.shape)"
   ]
  },
  {
   "cell_type": "code",
   "execution_count": 4,
   "metadata": {
    "execution": {
     "iopub.execute_input": "2022-12-05T06:50:17.019685Z",
     "iopub.status.busy": "2022-12-05T06:50:17.019296Z",
     "iopub.status.idle": "2022-12-05T06:50:17.03223Z",
     "shell.execute_reply": "2022-12-05T06:50:17.03087Z",
     "shell.execute_reply.started": "2022-12-05T06:50:17.019653Z"
    },
    "executionInfo": {
     "elapsed": 17,
     "status": "ok",
     "timestamp": 1670222626153,
     "user": {
      "displayName": "Ruturaj Ranpise",
      "userId": "13134967451216320931"
     },
     "user_tz": -330
    },
    "id": "MAumSbGJLgzP",
    "outputId": "06fef1b6-48d4-4384-fe2f-50bf807d6492"
   },
   "outputs": [
    {
     "data": {
      "text/plain": [
       "userId        object\n",
       "productId     object\n",
       "Rating       float64\n",
       "timestamp      int64\n",
       "dtype: object"
      ]
     },
     "execution_count": 4,
     "metadata": {},
     "output_type": "execute_result"
    }
   ],
   "source": [
    "df.dtypes"
   ]
  },
  {
   "cell_type": "code",
   "execution_count": 5,
   "metadata": {
    "execution": {
     "iopub.execute_input": "2022-12-05T06:50:17.034531Z",
     "iopub.status.busy": "2022-12-05T06:50:17.033794Z",
     "iopub.status.idle": "2022-12-05T06:50:17.786257Z",
     "shell.execute_reply": "2022-12-05T06:50:17.785449Z",
     "shell.execute_reply.started": "2022-12-05T06:50:17.034485Z"
    },
    "executionInfo": {
     "elapsed": 15,
     "status": "ok",
     "timestamp": 1670222626153,
     "user": {
      "displayName": "Ruturaj Ranpise",
      "userId": "13134967451216320931"
     },
     "user_tz": -330
    },
    "id": "sWinSAd1F0WY",
    "outputId": "48abbb46-334d-44a9-fa91-45df0dea5aa8"
   },
   "outputs": [
    {
     "data": {
      "text/html": [
       "<div>\n",
       "<style scoped>\n",
       "    .dataframe tbody tr th:only-of-type {\n",
       "        vertical-align: middle;\n",
       "    }\n",
       "\n",
       "    .dataframe tbody tr th {\n",
       "        vertical-align: top;\n",
       "    }\n",
       "\n",
       "    .dataframe thead th {\n",
       "        text-align: right;\n",
       "    }\n",
       "</style>\n",
       "<table border=\"1\" class=\"dataframe\">\n",
       "  <thead>\n",
       "    <tr style=\"text-align: right;\">\n",
       "      <th></th>\n",
       "      <th>Rating</th>\n",
       "      <th>timestamp</th>\n",
       "    </tr>\n",
       "  </thead>\n",
       "  <tbody>\n",
       "    <tr>\n",
       "      <th>count</th>\n",
       "      <td>7.824482e+06</td>\n",
       "      <td>7.824482e+06</td>\n",
       "    </tr>\n",
       "    <tr>\n",
       "      <th>mean</th>\n",
       "      <td>4.012337e+00</td>\n",
       "      <td>1.338178e+09</td>\n",
       "    </tr>\n",
       "    <tr>\n",
       "      <th>std</th>\n",
       "      <td>1.380910e+00</td>\n",
       "      <td>6.900426e+07</td>\n",
       "    </tr>\n",
       "    <tr>\n",
       "      <th>min</th>\n",
       "      <td>1.000000e+00</td>\n",
       "      <td>9.127296e+08</td>\n",
       "    </tr>\n",
       "    <tr>\n",
       "      <th>25%</th>\n",
       "      <td>3.000000e+00</td>\n",
       "      <td>1.315354e+09</td>\n",
       "    </tr>\n",
       "    <tr>\n",
       "      <th>50%</th>\n",
       "      <td>5.000000e+00</td>\n",
       "      <td>1.361059e+09</td>\n",
       "    </tr>\n",
       "    <tr>\n",
       "      <th>75%</th>\n",
       "      <td>5.000000e+00</td>\n",
       "      <td>1.386115e+09</td>\n",
       "    </tr>\n",
       "    <tr>\n",
       "      <th>max</th>\n",
       "      <td>5.000000e+00</td>\n",
       "      <td>1.406074e+09</td>\n",
       "    </tr>\n",
       "  </tbody>\n",
       "</table>\n",
       "</div>"
      ],
      "text/plain": [
       "             Rating     timestamp\n",
       "count  7.824482e+06  7.824482e+06\n",
       "mean   4.012337e+00  1.338178e+09\n",
       "std    1.380910e+00  6.900426e+07\n",
       "min    1.000000e+00  9.127296e+08\n",
       "25%    3.000000e+00  1.315354e+09\n",
       "50%    5.000000e+00  1.361059e+09\n",
       "75%    5.000000e+00  1.386115e+09\n",
       "max    5.000000e+00  1.406074e+09"
      ]
     },
     "execution_count": 5,
     "metadata": {},
     "output_type": "execute_result"
    }
   ],
   "source": [
    "df.describe()"
   ]
  },
  {
   "cell_type": "code",
   "execution_count": 6,
   "metadata": {
    "execution": {
     "iopub.execute_input": "2022-12-05T06:50:17.787856Z",
     "iopub.status.busy": "2022-12-05T06:50:17.787537Z",
     "iopub.status.idle": "2022-12-05T06:50:17.802691Z",
     "shell.execute_reply": "2022-12-05T06:50:17.801651Z",
     "shell.execute_reply.started": "2022-12-05T06:50:17.787826Z"
    },
    "executionInfo": {
     "elapsed": 16,
     "status": "ok",
     "timestamp": 1670222626154,
     "user": {
      "displayName": "Ruturaj Ranpise",
      "userId": "13134967451216320931"
     },
     "user_tz": -330
    },
    "id": "TDp8dpR_2P5J",
    "outputId": "00121996-21e4-4a93-c150-65145124fd50"
   },
   "outputs": [
    {
     "name": "stdout",
     "output_type": "stream",
     "text": [
      "<class 'pandas.core.frame.DataFrame'>\n",
      "RangeIndex: 7824482 entries, 0 to 7824481\n",
      "Data columns (total 4 columns):\n",
      " #   Column     Dtype  \n",
      "---  ------     -----  \n",
      " 0   userId     object \n",
      " 1   productId  object \n",
      " 2   Rating     float64\n",
      " 3   timestamp  int64  \n",
      "dtypes: float64(1), int64(1), object(2)\n",
      "memory usage: 238.8+ MB\n"
     ]
    }
   ],
   "source": [
    "df.info()"
   ]
  },
  {
   "cell_type": "code",
   "execution_count": 7,
   "metadata": {
    "execution": {
     "iopub.execute_input": "2022-12-05T06:50:17.80466Z",
     "iopub.status.busy": "2022-12-05T06:50:17.804322Z",
     "iopub.status.idle": "2022-12-05T06:50:18.281634Z",
     "shell.execute_reply": "2022-12-05T06:50:18.280483Z",
     "shell.execute_reply.started": "2022-12-05T06:50:17.804625Z"
    },
    "executionInfo": {
     "elapsed": 560,
     "status": "ok",
     "timestamp": 1670222626700,
     "user": {
      "displayName": "Ruturaj Ranpise",
      "userId": "13134967451216320931"
     },
     "user_tz": -330
    },
    "id": "J8LtCDxIF2mo",
    "outputId": "5c9686f0-4551-4e72-d657-310c496bac35"
   },
   "outputs": [
    {
     "data": {
      "text/plain": [
       "<AxesSubplot:>"
      ]
     },
     "execution_count": 7,
     "metadata": {},
     "output_type": "execute_result"
    },
    {
     "data": {
      "image/png": "[encoded data removed]",
      "text/plain": [
       "<Figure size 640x480 with 2 Axes>"
      ]
     },
     "metadata": {},
     "output_type": "display_data"
    }
   ],
   "source": [
    "corr = df.corr()\n",
    "sns.heatmap(corr, \n",
    "        xticklabels=corr.columns,\n",
    "        yticklabels=corr.columns)"
   ]
  },
  {
   "cell_type": "code",
   "execution_count": 8,
   "metadata": {
    "execution": {
     "iopub.execute_input": "2022-12-05T06:50:18.283799Z",
     "iopub.status.busy": "2022-12-05T06:50:18.283358Z",
     "iopub.status.idle": "2022-12-05T06:50:19.054439Z",
     "shell.execute_reply": "2022-12-05T06:50:19.053346Z",
     "shell.execute_reply.started": "2022-12-05T06:50:18.283757Z"
    },
    "executionInfo": {
     "elapsed": 3,
     "status": "ok",
     "timestamp": 1670222626700,
     "user": {
      "displayName": "Ruturaj Ranpise",
      "userId": "13134967451216320931"
     },
     "user_tz": -330
    },
    "id": "Z-Ukf6Bj1qPh",
    "outputId": "31adbb12-10cc-42ad-f483-9408a61700a6"
   },
   "outputs": [
    {
     "name": "stdout",
     "output_type": "stream",
     "text": [
      "Minimum rating is: 1\n",
      "Maximum rating is: 5\n"
     ]
    }
   ],
   "source": [
    "df.describe()['Rating']\n",
    "\n",
    "#Find the minimum and maximum ratings\n",
    "print('Minimum rating is: %d' %(df.Rating.min()))\n",
    "print('Maximum rating is: %d' %(df.Rating.max()))"
   ]
  },
  {
   "cell_type": "code",
   "execution_count": 9,
   "metadata": {
    "execution": {
     "iopub.execute_input": "2022-12-05T06:50:19.059485Z",
     "iopub.status.busy": "2022-12-05T06:50:19.059157Z",
     "iopub.status.idle": "2022-12-05T06:50:23.590121Z",
     "shell.execute_reply": "2022-12-05T06:50:23.588946Z",
     "shell.execute_reply.started": "2022-12-05T06:50:19.059456Z"
    },
    "executionInfo": {
     "elapsed": 734,
     "status": "ok",
     "timestamp": 1670222627432,
     "user": {
      "displayName": "Ruturaj Ranpise",
      "userId": "13134967451216320931"
     },
     "user_tz": -330
    },
    "id": "j5aOxHyISvxO",
    "outputId": "da99cf3b-a3a1-4c6d-8404-efe418287a31"
   },
   "outputs": [
    {
     "data": {
      "image/png": "[encoded data removed]",
      "text/plain": [
       "<Figure size 1000x500 with 1 Axes>"
      ]
     },
     "metadata": {},
     "output_type": "display_data"
    }
   ],
   "source": [
    "import seaborn as sns\n",
    "with sns.axes_style('white'):\n",
    "    g = sns.factorplot(\"Rating\", data=df, aspect=2.0,kind='count')\n",
    "    g.set_ylabels(\"Total number of ratings\")"
   ]
  },
  {
   "cell_type": "code",
   "execution_count": 10,
   "metadata": {
    "execution": {
     "iopub.execute_input": "2022-12-05T06:50:23.591746Z",
     "iopub.status.busy": "2022-12-05T06:50:23.591426Z",
     "iopub.status.idle": "2022-12-05T06:50:40.644557Z",
     "shell.execute_reply": "2022-12-05T06:50:40.64327Z",
     "shell.execute_reply.started": "2022-12-05T06:50:23.591717Z"
    },
    "executionInfo": {
     "elapsed": 493,
     "status": "ok",
     "timestamp": 1670222627921,
     "user": {
      "displayName": "Ruturaj Ranpise",
      "userId": "13134967451216320931"
     },
     "user_tz": -330
    },
    "id": "GP6Nhro0azif",
    "outputId": "66a8bef3-c0f5-457b-c939-3db7e0bc2d45"
   },
   "outputs": [
    {
     "name": "stdout",
     "output_type": "stream",
     "text": [
      "Total data \n",
      "--------------------------------------------------\n",
      "\n",
      "Total no of ratings : 7824482\n",
      "Total No of Users   : 4201696\n",
      "Total No of products  : 7824482\n"
     ]
    }
   ],
   "source": [
    "print(\"Total data \")\n",
    "print(\"-\"*50)\n",
    "print(\"\\nTotal no of ratings :\",df.shape[0])\n",
    "print(\"Total No of Users   :\", len(np.unique(df.userId)))\n",
    "print(\"Total No of products  :\", len(df.productId))"
   ]
  },
  {
   "cell_type": "code",
   "execution_count": 11,
   "metadata": {
    "execution": {
     "iopub.execute_input": "2022-12-05T06:50:40.650129Z",
     "iopub.status.busy": "2022-12-05T06:50:40.649665Z",
     "iopub.status.idle": "2022-12-05T06:50:40.928144Z",
     "shell.execute_reply": "2022-12-05T06:50:40.927145Z",
     "shell.execute_reply.started": "2022-12-05T06:50:40.650088Z"
    },
    "executionInfo": {
     "elapsed": 5,
     "status": "ok",
     "timestamp": 1670222627921,
     "user": {
      "displayName": "Ruturaj Ranpise",
      "userId": "13134967451216320931"
     },
     "user_tz": -330
    },
    "id": "MX8OFeQia-RS"
   },
   "outputs": [],
   "source": [
    "df.drop(['timestamp'], axis=1,inplace=True)"
   ]
  },
  {
   "cell_type": "code",
   "execution_count": 12,
   "metadata": {
    "execution": {
     "iopub.execute_input": "2022-12-05T06:50:40.929936Z",
     "iopub.status.busy": "2022-12-05T06:50:40.929433Z",
     "iopub.status.idle": "2022-12-05T06:50:58.079113Z",
     "shell.execute_reply": "2022-12-05T06:50:58.077961Z",
     "shell.execute_reply.started": "2022-12-05T06:50:40.929892Z"
    },
    "executionInfo": {
     "elapsed": 531,
     "status": "ok",
     "timestamp": 1670222628448,
     "user": {
      "displayName": "Ruturaj Ranpise",
      "userId": "13134967451216320931"
     },
     "user_tz": -330
    },
    "id": "XRJoqwvqbD5x",
    "outputId": "b0033494-790e-4916-85a7-6b11677244aa"
   },
   "outputs": [
    {
     "data": {
      "text/plain": [
       "userId\n",
       "A5JLAU2ARJ0BO     520\n",
       "ADLVFFE4VBT8      501\n",
       "A3OXHLG6DIBRW8    498\n",
       "A6FIAB28IS79      431\n",
       "A680RUE1FDO8B     406\n",
       "Name: Rating, dtype: int64"
      ]
     },
     "execution_count": 12,
     "metadata": {},
     "output_type": "execute_result"
    }
   ],
   "source": [
    "no_of_rated_products_per_user = df.groupby(by='userId')['Rating'].count().sort_values(ascending=False)\n",
    "no_of_rated_products_per_user.head()"
   ]
  },
  {
   "cell_type": "code",
   "execution_count": 13,
   "metadata": {
    "execution": {
     "iopub.execute_input": "2022-12-05T06:50:58.081049Z",
     "iopub.status.busy": "2022-12-05T06:50:58.080313Z",
     "iopub.status.idle": "2022-12-05T06:50:58.251213Z",
     "shell.execute_reply": "2022-12-05T06:50:58.250127Z",
     "shell.execute_reply.started": "2022-12-05T06:50:58.081017Z"
    },
    "executionInfo": {
     "elapsed": 8,
     "status": "ok",
     "timestamp": 1670222628448,
     "user": {
      "displayName": "Ruturaj Ranpise",
      "userId": "13134967451216320931"
     },
     "user_tz": -330
    },
    "id": "N_6o_O064iOr",
    "outputId": "48c17a4c-138d-4238-83da-5b45ca05c6e3"
   },
   "outputs": [
    {
     "data": {
      "text/plain": [
       "count    4.201696e+06\n",
       "mean     1.862220e+00\n",
       "std      2.885110e+00\n",
       "min      1.000000e+00\n",
       "25%      1.000000e+00\n",
       "50%      1.000000e+00\n",
       "75%      2.000000e+00\n",
       "max      5.200000e+02\n",
       "Name: Rating, dtype: float64"
      ]
     },
     "execution_count": 13,
     "metadata": {},
     "output_type": "execute_result"
    }
   ],
   "source": [
    "no_of_rated_products_per_user.describe()"
   ]
  },
  {
   "cell_type": "code",
   "execution_count": 14,
   "metadata": {
    "execution": {
     "iopub.execute_input": "2022-12-05T06:50:58.253199Z",
     "iopub.status.busy": "2022-12-05T06:50:58.252648Z",
     "iopub.status.idle": "2022-12-05T06:50:58.407304Z",
     "shell.execute_reply": "2022-12-05T06:50:58.406277Z",
     "shell.execute_reply.started": "2022-12-05T06:50:58.253166Z"
    },
    "executionInfo": {
     "elapsed": 8,
     "status": "ok",
     "timestamp": 1670222628449,
     "user": {
      "displayName": "Ruturaj Ranpise",
      "userId": "13134967451216320931"
     },
     "user_tz": -330
    },
    "id": "IPWtWNv84iMQ"
   },
   "outputs": [],
   "source": [
    "quantiles = no_of_rated_products_per_user.quantile(np.arange(0,1.01,0.01), interpolation='higher')"
   ]
  },
  {
   "cell_type": "code",
   "execution_count": 15,
   "metadata": {
    "execution": {
     "iopub.execute_input": "2022-12-05T06:50:58.408986Z",
     "iopub.status.busy": "2022-12-05T06:50:58.408602Z",
     "iopub.status.idle": "2022-12-05T06:50:58.864534Z",
     "shell.execute_reply": "2022-12-05T06:50:58.863246Z",
     "shell.execute_reply.started": "2022-12-05T06:50:58.408945Z"
    },
    "executionInfo": {
     "elapsed": 7,
     "status": "ok",
     "timestamp": 1670222628449,
     "user": {
      "displayName": "Ruturaj Ranpise",
      "userId": "13134967451216320931"
     },
     "user_tz": -330
    },
    "id": "gWGGcjlr4zCe",
    "outputId": "856d090c-deb6-41fe-be68-06aa83be0638"
   },
   "outputs": [
    {
     "name": "stdout",
     "output_type": "stream",
     "text": [
      "\n",
      " No of rated product more than 50 per user : 1540\n",
      "\n"
     ]
    }
   ],
   "source": [
    "print('\\n No of rated product more than 50 per user : {}\\n'.format(sum(no_of_rated_products_per_user >= 50)) )"
   ]
  },
  {
   "cell_type": "code",
   "execution_count": 16,
   "metadata": {
    "execution": {
     "iopub.execute_input": "2022-12-05T06:50:58.866141Z",
     "iopub.status.busy": "2022-12-05T06:50:58.865725Z",
     "iopub.status.idle": "2022-12-05T06:51:49.304013Z",
     "shell.execute_reply": "2022-12-05T06:51:49.302681Z",
     "shell.execute_reply.started": "2022-12-05T06:50:58.866109Z"
    },
    "executionInfo": {
     "elapsed": 2635,
     "status": "ok",
     "timestamp": 1670222631079,
     "user": {
      "displayName": "Ruturaj Ranpise",
      "userId": "13134967451216320931"
     },
     "user_tz": -330
    },
    "id": "V7-SnR6VbH9a"
   },
   "outputs": [],
   "source": [
    "#Getting the new dataframe which contains users who has given 50 or more ratings\n",
    "\n",
    "df2=df.groupby(\"productId\").filter(lambda x:x['Rating'].count() >=50)"
   ]
  },
  {
   "cell_type": "code",
   "execution_count": 17,
   "metadata": {
    "execution": {
     "iopub.execute_input": "2022-12-05T06:51:49.311847Z",
     "iopub.status.busy": "2022-12-05T06:51:49.311057Z",
     "iopub.status.idle": "2022-12-05T06:51:50.092685Z",
     "shell.execute_reply": "2022-12-05T06:51:50.091674Z",
     "shell.execute_reply.started": "2022-12-05T06:51:49.311809Z"
    },
    "executionInfo": {
     "elapsed": 19,
     "status": "ok",
     "timestamp": 1670222631079,
     "user": {
      "displayName": "Ruturaj Ranpise",
      "userId": "13134967451216320931"
     },
     "user_tz": -330
    },
    "id": "UmJMpn1w6FY5",
    "outputId": "c1804479-8805-47d0-a3f2-9bd2a2255e51"
   },
   "outputs": [
    {
     "data": {
      "image/png": "[encoded data removed]",
      "text/plain": [
       "<Figure size 960x480 with 1 Axes>"
      ]
     },
     "metadata": {},
     "output_type": "display_data"
    }
   ],
   "source": [
    "no_of_ratings_per_product = df2.groupby(by='productId')['Rating'].count().sort_values(ascending=False)\n",
    "\n",
    "fig = plt.figure(figsize=plt.figaspect(.5))\n",
    "ax = plt.gca()\n",
    "plt.plot(no_of_ratings_per_product.values)\n",
    "plt.title('# RATINGS per Product')\n",
    "plt.xlabel('Product')\n",
    "plt.ylabel('No of ratings per product')\n",
    "ax.set_xticklabels([])\n",
    "\n",
    "plt.show()"
   ]
  },
  {
   "cell_type": "code",
   "execution_count": 18,
   "metadata": {
    "execution": {
     "iopub.execute_input": "2022-12-05T06:51:50.096405Z",
     "iopub.status.busy": "2022-12-05T06:51:50.095893Z",
     "iopub.status.idle": "2022-12-05T06:51:50.671572Z",
     "shell.execute_reply": "2022-12-05T06:51:50.67035Z",
     "shell.execute_reply.started": "2022-12-05T06:51:50.096374Z"
    },
    "executionInfo": {
     "elapsed": 18,
     "status": "ok",
     "timestamp": 1670222631080,
     "user": {
      "displayName": "Ruturaj Ranpise",
      "userId": "13134967451216320931"
     },
     "user_tz": -330
    },
    "id": "gWGCo8mlbNUp",
    "outputId": "ae9b2127-846e-431f-ad97-54654aa61b82"
   },
   "outputs": [
    {
     "data": {
      "text/plain": [
       "productId\n",
       "0972683275    4.470980\n",
       "1400501466    3.560000\n",
       "1400501520    4.243902\n",
       "1400501776    3.884892\n",
       "1400532620    3.684211\n",
       "Name: Rating, dtype: float64"
      ]
     },
     "execution_count": 18,
     "metadata": {},
     "output_type": "execute_result"
    }
   ],
   "source": [
    "df2.groupby('productId')['Rating'].mean().head()"
   ]
  },
  {
   "cell_type": "code",
   "execution_count": 19,
   "metadata": {
    "execution": {
     "iopub.execute_input": "2022-12-05T06:51:50.673608Z",
     "iopub.status.busy": "2022-12-05T06:51:50.673193Z",
     "iopub.status.idle": "2022-12-05T06:51:51.255336Z",
     "shell.execute_reply": "2022-12-05T06:51:51.254092Z",
     "shell.execute_reply.started": "2022-12-05T06:51:50.673567Z"
    },
    "executionInfo": {
     "elapsed": 15,
     "status": "ok",
     "timestamp": 1670222631080,
     "user": {
      "displayName": "Ruturaj Ranpise",
      "userId": "13134967451216320931"
     },
     "user_tz": -330
    },
    "id": "LPIUSs7a6PXg",
    "outputId": "2e8dad67-ca0f-402e-94cf-1a519020a604"
   },
   "outputs": [
    {
     "data": {
      "text/plain": [
       "productId\n",
       "B002E6R7NG    4.980392\n",
       "B004I763AW    4.966667\n",
       "B003J9QQWU    4.964286\n",
       "B0043ZLFXE    4.955556\n",
       "B000TMFYBO    4.953125\n",
       "Name: Rating, dtype: float64"
      ]
     },
     "execution_count": 19,
     "metadata": {},
     "output_type": "execute_result"
    }
   ],
   "source": [
    "df2.groupby('productId')['Rating'].mean().sort_values(ascending=False).head()"
   ]
  },
  {
   "cell_type": "code",
   "execution_count": 20,
   "metadata": {
    "execution": {
     "iopub.execute_input": "2022-12-05T06:51:51.256909Z",
     "iopub.status.busy": "2022-12-05T06:51:51.256514Z",
     "iopub.status.idle": "2022-12-05T06:51:51.848531Z",
     "shell.execute_reply": "2022-12-05T06:51:51.847449Z",
     "shell.execute_reply.started": "2022-12-05T06:51:51.25688Z"
    },
    "executionInfo": {
     "elapsed": 13,
     "status": "ok",
     "timestamp": 1670222631080,
     "user": {
      "displayName": "Ruturaj Ranpise",
      "userId": "13134967451216320931"
     },
     "user_tz": -330
    },
    "id": "5Hb9HAew6PUu",
    "outputId": "61fad908-306a-4461-84b8-98418890dd46"
   },
   "outputs": [
    {
     "data": {
      "text/plain": [
       "productId\n",
       "B0074BW614    18244\n",
       "B00DR0PDNE    16454\n",
       "B007WTAJTO    14172\n",
       "B0019EHU8G    12285\n",
       "B006GWO5WK    12226\n",
       "Name: Rating, dtype: int64"
      ]
     },
     "execution_count": 20,
     "metadata": {},
     "output_type": "execute_result"
    }
   ],
   "source": [
    "df2.groupby('productId')['Rating'].count().sort_values(ascending=False).head()"
   ]
  },
  {
   "cell_type": "code",
   "execution_count": 21,
   "metadata": {
    "execution": {
     "iopub.execute_input": "2022-12-05T06:51:51.850535Z",
     "iopub.status.busy": "2022-12-05T06:51:51.849994Z",
     "iopub.status.idle": "2022-12-05T06:51:52.428649Z",
     "shell.execute_reply": "2022-12-05T06:51:52.427812Z",
     "shell.execute_reply.started": "2022-12-05T06:51:51.850482Z"
    },
    "executionInfo": {
     "elapsed": 13,
     "status": "ok",
     "timestamp": 1670222631081,
     "user": {
      "displayName": "Ruturaj Ranpise",
      "userId": "13134967451216320931"
     },
     "user_tz": -330
    },
    "id": "1wAz7yfy6PS0"
   },
   "outputs": [],
   "source": [
    "ratings_mean_count = pd.DataFrame(df2.groupby('productId')['Rating'].mean())"
   ]
  },
  {
   "cell_type": "code",
   "execution_count": 22,
   "metadata": {
    "execution": {
     "iopub.execute_input": "2022-12-05T06:51:52.430304Z",
     "iopub.status.busy": "2022-12-05T06:51:52.429814Z",
     "iopub.status.idle": "2022-12-05T06:51:53.029603Z",
     "shell.execute_reply": "2022-12-05T06:51:53.028392Z",
     "shell.execute_reply.started": "2022-12-05T06:51:52.430274Z"
    },
    "executionInfo": {
     "elapsed": 13,
     "status": "ok",
     "timestamp": 1670222631081,
     "user": {
      "displayName": "Ruturaj Ranpise",
      "userId": "13134967451216320931"
     },
     "user_tz": -330
    },
    "id": "zKHYJKjL6Y97"
   },
   "outputs": [],
   "source": [
    "ratings_mean_count['rating_counts'] = pd.DataFrame(df2.groupby('productId')['Rating'].count())"
   ]
  },
  {
   "cell_type": "code",
   "execution_count": 23,
   "metadata": {
    "execution": {
     "iopub.execute_input": "2022-12-05T06:51:53.031372Z",
     "iopub.status.busy": "2022-12-05T06:51:53.031019Z",
     "iopub.status.idle": "2022-12-05T06:51:53.042291Z",
     "shell.execute_reply": "2022-12-05T06:51:53.041132Z",
     "shell.execute_reply.started": "2022-12-05T06:51:53.031341Z"
    },
    "executionInfo": {
     "elapsed": 12,
     "status": "ok",
     "timestamp": 1670222631081,
     "user": {
      "displayName": "Ruturaj Ranpise",
      "userId": "13134967451216320931"
     },
     "user_tz": -330
    },
    "id": "JNCvDTfN6Y7q",
    "outputId": "840e047a-67b0-4daf-bbac-8e9cf70e3ae3"
   },
   "outputs": [
    {
     "data": {
      "text/html": [
       "<div>\n",
       "<style scoped>\n",
       "    .dataframe tbody tr th:only-of-type {\n",
       "        vertical-align: middle;\n",
       "    }\n",
       "\n",
       "    .dataframe tbody tr th {\n",
       "        vertical-align: top;\n",
       "    }\n",
       "\n",
       "    .dataframe thead th {\n",
       "        text-align: right;\n",
       "    }\n",
       "</style>\n",
       "<table border=\"1\" class=\"dataframe\">\n",
       "  <thead>\n",
       "    <tr style=\"text-align: right;\">\n",
       "      <th></th>\n",
       "      <th>Rating</th>\n",
       "      <th>rating_counts</th>\n",
       "    </tr>\n",
       "    <tr>\n",
       "      <th>productId</th>\n",
       "      <th></th>\n",
       "      <th></th>\n",
       "    </tr>\n",
       "  </thead>\n",
       "  <tbody>\n",
       "    <tr>\n",
       "      <th>0972683275</th>\n",
       "      <td>4.470980</td>\n",
       "      <td>1051</td>\n",
       "    </tr>\n",
       "    <tr>\n",
       "      <th>1400501466</th>\n",
       "      <td>3.560000</td>\n",
       "      <td>250</td>\n",
       "    </tr>\n",
       "    <tr>\n",
       "      <th>1400501520</th>\n",
       "      <td>4.243902</td>\n",
       "      <td>82</td>\n",
       "    </tr>\n",
       "    <tr>\n",
       "      <th>1400501776</th>\n",
       "      <td>3.884892</td>\n",
       "      <td>139</td>\n",
       "    </tr>\n",
       "    <tr>\n",
       "      <th>1400532620</th>\n",
       "      <td>3.684211</td>\n",
       "      <td>171</td>\n",
       "    </tr>\n",
       "  </tbody>\n",
       "</table>\n",
       "</div>"
      ],
      "text/plain": [
       "              Rating  rating_counts\n",
       "productId                          \n",
       "0972683275  4.470980           1051\n",
       "1400501466  3.560000            250\n",
       "1400501520  4.243902             82\n",
       "1400501776  3.884892            139\n",
       "1400532620  3.684211            171"
      ]
     },
     "execution_count": 23,
     "metadata": {},
     "output_type": "execute_result"
    }
   ],
   "source": [
    "ratings_mean_count.head()"
   ]
  },
  {
   "cell_type": "code",
   "execution_count": 24,
   "metadata": {
    "execution": {
     "iopub.execute_input": "2022-12-05T06:51:53.044208Z",
     "iopub.status.busy": "2022-12-05T06:51:53.043791Z",
     "iopub.status.idle": "2022-12-05T06:51:53.055794Z",
     "shell.execute_reply": "2022-12-05T06:51:53.055047Z",
     "shell.execute_reply.started": "2022-12-05T06:51:53.044173Z"
    },
    "executionInfo": {
     "elapsed": 870,
     "status": "ok",
     "timestamp": 1670222631939,
     "user": {
      "displayName": "Ruturaj Ranpise",
      "userId": "13134967451216320931"
     },
     "user_tz": -330
    },
    "id": "yha7U_Lv6Y2u",
    "outputId": "3973e91a-ebc1-40dd-da5c-a600ef4a0eba"
   },
   "outputs": [
    {
     "data": {
      "text/plain": [
       "18244"
      ]
     },
     "execution_count": 24,
     "metadata": {},
     "output_type": "execute_result"
    }
   ],
   "source": [
    "ratings_mean_count['rating_counts'].max()"
   ]
  },
  {
   "cell_type": "code",
   "execution_count": 25,
   "metadata": {
    "execution": {
     "iopub.execute_input": "2022-12-05T06:51:53.057711Z",
     "iopub.status.busy": "2022-12-05T06:51:53.056937Z",
     "iopub.status.idle": "2022-12-05T06:51:53.384487Z",
     "shell.execute_reply": "2022-12-05T06:51:53.38363Z",
     "shell.execute_reply.started": "2022-12-05T06:51:53.057677Z"
    },
    "executionInfo": {
     "elapsed": 18,
     "status": "ok",
     "timestamp": 1670222631940,
     "user": {
      "displayName": "Ruturaj Ranpise",
      "userId": "13134967451216320931"
     },
     "user_tz": -330
    },
    "id": "QjgXcrQ36tdU",
    "outputId": "e1bed78d-e70a-43d4-becc-4e7e8c6f52d3"
   },
   "outputs": [
    {
     "data": {
      "text/plain": [
       "<AxesSubplot:>"
      ]
     },
     "execution_count": 25,
     "metadata": {},
     "output_type": "execute_result"
    },
    {
     "data": {
      "image/png": "[encoded data removed]",
      "text/plain": [
       "<Figure size 800x600 with 1 Axes>"
      ]
     },
     "metadata": {},
     "output_type": "display_data"
    }
   ],
   "source": [
    "plt.figure(figsize=(8,6))\n",
    "plt.rcParams['patch.force_edgecolor'] = True\n",
    "ratings_mean_count['rating_counts'].hist(bins=50)"
   ]
  },
  {
   "cell_type": "code",
   "execution_count": 26,
   "metadata": {
    "execution": {
     "iopub.execute_input": "2022-12-05T06:51:53.386164Z",
     "iopub.status.busy": "2022-12-05T06:51:53.385685Z",
     "iopub.status.idle": "2022-12-05T06:51:53.718275Z",
     "shell.execute_reply": "2022-12-05T06:51:53.717123Z",
     "shell.execute_reply.started": "2022-12-05T06:51:53.386134Z"
    },
    "executionInfo": {
     "elapsed": 15,
     "status": "ok",
     "timestamp": 1670222631940,
     "user": {
      "displayName": "Ruturaj Ranpise",
      "userId": "13134967451216320931"
     },
     "user_tz": -330
    },
    "id": "EMkzr3s46tbh",
    "outputId": "806bce02-e489-4d39-9445-1e06cfe54ed9"
   },
   "outputs": [
    {
     "data": {
      "text/plain": [
       "<AxesSubplot:>"
      ]
     },
     "execution_count": 26,
     "metadata": {},
     "output_type": "execute_result"
    },
    {
     "data": {
      "image/png": "[encoded data removed]",
      "text/plain": [
       "<Figure size 800x600 with 1 Axes>"
      ]
     },
     "metadata": {},
     "output_type": "display_data"
    }
   ],
   "source": [
    "plt.figure(figsize=(8,6))\n",
    "plt.rcParams['patch.force_edgecolor'] = True\n",
    "ratings_mean_count['Rating'].hist(bins=50)"
   ]
  },
  {
   "cell_type": "code",
   "execution_count": 27,
   "metadata": {
    "execution": {
     "iopub.execute_input": "2022-12-05T06:51:53.723579Z",
     "iopub.status.busy": "2022-12-05T06:51:53.723234Z",
     "iopub.status.idle": "2022-12-05T06:51:58.947908Z",
     "shell.execute_reply": "2022-12-05T06:51:58.946718Z",
     "shell.execute_reply.started": "2022-12-05T06:51:53.723548Z"
    },
    "executionInfo": {
     "elapsed": 1282,
     "status": "ok",
     "timestamp": 1670222633211,
     "user": {
      "displayName": "Ruturaj Ranpise",
      "userId": "13134967451216320931"
     },
     "user_tz": -330
    },
    "id": "e7Y1P45k6tZC",
    "outputId": "e90209e7-92ba-4db7-9e57-cccf2a8d710b"
   },
   "outputs": [
    {
     "data": {
      "text/plain": [
       "<seaborn.axisgrid.JointGrid at 0x7fcdb76250a0>"
      ]
     },
     "execution_count": 27,
     "metadata": {},
     "output_type": "execute_result"
    },
    {
     "data": {
      "text/plain": [
       "<Figure size 800x600 with 0 Axes>"
      ]
     },
     "metadata": {},
     "output_type": "display_data"
    },
    {
     "data": {
      "image/png": "[encoded data removed]",
      "text/plain": [
       "<Figure size 600x600 with 3 Axes>"
      ]
     },
     "metadata": {},
     "output_type": "display_data"
    }
   ],
   "source": [
    "plt.figure(figsize=(8,6))\n",
    "plt.rcParams['patch.force_edgecolor'] = True\n",
    "sns.jointplot(x='Rating', y='rating_counts', data=ratings_mean_count, alpha=0.4)"
   ]
  },
  {
   "cell_type": "code",
   "execution_count": 28,
   "metadata": {
    "execution": {
     "iopub.execute_input": "2022-12-05T06:51:58.949655Z",
     "iopub.status.busy": "2022-12-05T06:51:58.949341Z",
     "iopub.status.idle": "2022-12-05T06:51:59.971068Z",
     "shell.execute_reply": "2022-12-05T06:51:59.969852Z",
     "shell.execute_reply.started": "2022-12-05T06:51:58.949626Z"
    },
    "executionInfo": {
     "elapsed": 671,
     "status": "ok",
     "timestamp": 1670222633878,
     "user": {
      "displayName": "Ruturaj Ranpise",
      "userId": "13134967451216320931"
     },
     "user_tz": -330
    },
    "id": "7kNNU8UI61_3",
    "outputId": "4bcc00c9-dad9-493a-e372-87d3cbaa165c"
   },
   "outputs": [
    {
     "data": {
      "text/plain": [
       "<AxesSubplot:xlabel='productId'>"
      ]
     },
     "execution_count": 28,
     "metadata": {},
     "output_type": "execute_result"
    },
    {
     "data": {
      "image/png": "[encoded data removed]",
      "text/plain": [
       "<Figure size 640x480 with 1 Axes>"
      ]
     },
     "metadata": {},
     "output_type": "display_data"
    }
   ],
   "source": [
    "popular_products = pd.DataFrame(df2.groupby('productId')['Rating'].count())\n",
    "most_popular = popular_products.sort_values('Rating', ascending=False)\n",
    "most_popular.head(30).plot(kind = \"bar\")"
   ]
  },
  {
   "cell_type": "code",
   "execution_count": 29,
   "metadata": {
    "execution": {
     "iopub.execute_input": "2022-12-05T06:51:59.973768Z",
     "iopub.status.busy": "2022-12-05T06:51:59.972805Z",
     "iopub.status.idle": "2022-12-05T06:52:00.104186Z",
     "shell.execute_reply": "2022-12-05T06:52:00.103002Z",
     "shell.execute_reply.started": "2022-12-05T06:51:59.973723Z"
    },
    "executionInfo": {
     "elapsed": 26,
     "status": "ok",
     "timestamp": 1670222633879,
     "user": {
      "displayName": "Ruturaj Ranpise",
      "userId": "13134967451216320931"
     },
     "user_tz": -330
    },
    "id": "hCqzsNO38cR2",
    "outputId": "10bd63a4-6e9e-4145-e761-5ead03a75892"
   },
   "outputs": [
    {
     "data": {
      "text/html": [
       "<div>\n",
       "<style scoped>\n",
       "    .dataframe tbody tr th:only-of-type {\n",
       "        vertical-align: middle;\n",
       "    }\n",
       "\n",
       "    .dataframe tbody tr th {\n",
       "        vertical-align: top;\n",
       "    }\n",
       "\n",
       "    .dataframe thead th {\n",
       "        text-align: right;\n",
       "    }\n",
       "</style>\n",
       "<table border=\"1\" class=\"dataframe\">\n",
       "  <thead>\n",
       "    <tr style=\"text-align: right;\">\n",
       "      <th>productId</th>\n",
       "      <th>0972683275</th>\n",
       "      <th>1400501466</th>\n",
       "      <th>1400501520</th>\n",
       "      <th>1400501776</th>\n",
       "      <th>1400532620</th>\n",
       "      <th>1400532655</th>\n",
       "      <th>140053271X</th>\n",
       "      <th>1400532736</th>\n",
       "      <th>1400599997</th>\n",
       "      <th>1400698987</th>\n",
       "      <th>...</th>\n",
       "      <th>B00000JFMK</th>\n",
       "      <th>B00000JHWX</th>\n",
       "      <th>B00000JI4F</th>\n",
       "      <th>B00000JII6</th>\n",
       "      <th>B00000JMUG</th>\n",
       "      <th>B00000JPPI</th>\n",
       "      <th>B00000JSGF</th>\n",
       "      <th>B00000JYLO</th>\n",
       "      <th>B00000JYWQ</th>\n",
       "      <th>B00000K135</th>\n",
       "    </tr>\n",
       "    <tr>\n",
       "      <th>userId</th>\n",
       "      <th></th>\n",
       "      <th></th>\n",
       "      <th></th>\n",
       "      <th></th>\n",
       "      <th></th>\n",
       "      <th></th>\n",
       "      <th></th>\n",
       "      <th></th>\n",
       "      <th></th>\n",
       "      <th></th>\n",
       "      <th></th>\n",
       "      <th></th>\n",
       "      <th></th>\n",
       "      <th></th>\n",
       "      <th></th>\n",
       "      <th></th>\n",
       "      <th></th>\n",
       "      <th></th>\n",
       "      <th></th>\n",
       "      <th></th>\n",
       "      <th></th>\n",
       "    </tr>\n",
       "  </thead>\n",
       "  <tbody>\n",
       "    <tr>\n",
       "      <th>A01852072Z7B68UHLI5UG</th>\n",
       "      <td>0</td>\n",
       "      <td>0</td>\n",
       "      <td>0</td>\n",
       "      <td>0</td>\n",
       "      <td>0</td>\n",
       "      <td>0</td>\n",
       "      <td>0</td>\n",
       "      <td>0</td>\n",
       "      <td>0</td>\n",
       "      <td>0</td>\n",
       "      <td>...</td>\n",
       "      <td>0</td>\n",
       "      <td>0</td>\n",
       "      <td>0</td>\n",
       "      <td>0</td>\n",
       "      <td>0</td>\n",
       "      <td>0</td>\n",
       "      <td>0</td>\n",
       "      <td>0</td>\n",
       "      <td>0</td>\n",
       "      <td>0</td>\n",
       "    </tr>\n",
       "    <tr>\n",
       "      <th>A0266076X6KPZ6CCHGVS</th>\n",
       "      <td>0</td>\n",
       "      <td>0</td>\n",
       "      <td>0</td>\n",
       "      <td>0</td>\n",
       "      <td>0</td>\n",
       "      <td>0</td>\n",
       "      <td>0</td>\n",
       "      <td>0</td>\n",
       "      <td>0</td>\n",
       "      <td>0</td>\n",
       "      <td>...</td>\n",
       "      <td>0</td>\n",
       "      <td>0</td>\n",
       "      <td>0</td>\n",
       "      <td>0</td>\n",
       "      <td>0</td>\n",
       "      <td>0</td>\n",
       "      <td>0</td>\n",
       "      <td>0</td>\n",
       "      <td>0</td>\n",
       "      <td>0</td>\n",
       "    </tr>\n",
       "    <tr>\n",
       "      <th>A0293130VTX2ZXA70JQS</th>\n",
       "      <td>5</td>\n",
       "      <td>0</td>\n",
       "      <td>0</td>\n",
       "      <td>0</td>\n",
       "      <td>0</td>\n",
       "      <td>0</td>\n",
       "      <td>0</td>\n",
       "      <td>0</td>\n",
       "      <td>0</td>\n",
       "      <td>0</td>\n",
       "      <td>...</td>\n",
       "      <td>0</td>\n",
       "      <td>0</td>\n",
       "      <td>0</td>\n",
       "      <td>0</td>\n",
       "      <td>0</td>\n",
       "      <td>0</td>\n",
       "      <td>0</td>\n",
       "      <td>0</td>\n",
       "      <td>0</td>\n",
       "      <td>0</td>\n",
       "    </tr>\n",
       "    <tr>\n",
       "      <th>A030530627MK66BD8V4LN</th>\n",
       "      <td>4</td>\n",
       "      <td>0</td>\n",
       "      <td>0</td>\n",
       "      <td>0</td>\n",
       "      <td>0</td>\n",
       "      <td>0</td>\n",
       "      <td>0</td>\n",
       "      <td>0</td>\n",
       "      <td>0</td>\n",
       "      <td>0</td>\n",
       "      <td>...</td>\n",
       "      <td>0</td>\n",
       "      <td>0</td>\n",
       "      <td>0</td>\n",
       "      <td>0</td>\n",
       "      <td>0</td>\n",
       "      <td>0</td>\n",
       "      <td>0</td>\n",
       "      <td>0</td>\n",
       "      <td>0</td>\n",
       "      <td>0</td>\n",
       "    </tr>\n",
       "    <tr>\n",
       "      <th>A0571176384K8RBNKGF8O</th>\n",
       "      <td>0</td>\n",
       "      <td>0</td>\n",
       "      <td>0</td>\n",
       "      <td>0</td>\n",
       "      <td>0</td>\n",
       "      <td>0</td>\n",
       "      <td>0</td>\n",
       "      <td>0</td>\n",
       "      <td>0</td>\n",
       "      <td>0</td>\n",
       "      <td>...</td>\n",
       "      <td>0</td>\n",
       "      <td>0</td>\n",
       "      <td>0</td>\n",
       "      <td>0</td>\n",
       "      <td>0</td>\n",
       "      <td>0</td>\n",
       "      <td>0</td>\n",
       "      <td>0</td>\n",
       "      <td>0</td>\n",
       "      <td>0</td>\n",
       "    </tr>\n",
       "  </tbody>\n",
       "</table>\n",
       "<p>5 rows × 76 columns</p>\n",
       "</div>"
      ],
      "text/plain": [
       "productId              0972683275  1400501466  1400501520  1400501776  \\\n",
       "userId                                                                  \n",
       "A01852072Z7B68UHLI5UG           0           0           0           0   \n",
       "A0266076X6KPZ6CCHGVS            0           0           0           0   \n",
       "A0293130VTX2ZXA70JQS            5           0           0           0   \n",
       "A030530627MK66BD8V4LN           4           0           0           0   \n",
       "A0571176384K8RBNKGF8O           0           0           0           0   \n",
       "\n",
       "productId              1400532620  1400532655  140053271X  1400532736  \\\n",
       "userId                                                                  \n",
       "A01852072Z7B68UHLI5UG           0           0           0           0   \n",
       "A0266076X6KPZ6CCHGVS            0           0           0           0   \n",
       "A0293130VTX2ZXA70JQS            0           0           0           0   \n",
       "A030530627MK66BD8V4LN           0           0           0           0   \n",
       "A0571176384K8RBNKGF8O           0           0           0           0   \n",
       "\n",
       "productId              1400599997  1400698987  ...  B00000JFMK  B00000JHWX  \\\n",
       "userId                                         ...                           \n",
       "A01852072Z7B68UHLI5UG           0           0  ...           0           0   \n",
       "A0266076X6KPZ6CCHGVS            0           0  ...           0           0   \n",
       "A0293130VTX2ZXA70JQS            0           0  ...           0           0   \n",
       "A030530627MK66BD8V4LN           0           0  ...           0           0   \n",
       "A0571176384K8RBNKGF8O           0           0  ...           0           0   \n",
       "\n",
       "productId              B00000JI4F  B00000JII6  B00000JMUG  B00000JPPI  \\\n",
       "userId                                                                  \n",
       "A01852072Z7B68UHLI5UG           0           0           0           0   \n",
       "A0266076X6KPZ6CCHGVS            0           0           0           0   \n",
       "A0293130VTX2ZXA70JQS            0           0           0           0   \n",
       "A030530627MK66BD8V4LN           0           0           0           0   \n",
       "A0571176384K8RBNKGF8O           0           0           0           0   \n",
       "\n",
       "productId              B00000JSGF  B00000JYLO  B00000JYWQ  B00000K135  \n",
       "userId                                                                 \n",
       "A01852072Z7B68UHLI5UG           0           0           0           0  \n",
       "A0266076X6KPZ6CCHGVS            0           0           0           0  \n",
       "A0293130VTX2ZXA70JQS            0           0           0           0  \n",
       "A030530627MK66BD8V4LN           0           0           0           0  \n",
       "A0571176384K8RBNKGF8O           0           0           0           0  \n",
       "\n",
       "[5 rows x 76 columns]"
      ]
     },
     "execution_count": 29,
     "metadata": {},
     "output_type": "execute_result"
    }
   ],
   "source": [
    "new_df1=df2.head(10000)\n",
    "ratings_matrix = new_df1.pivot_table(values='Rating', index='userId', columns='productId', fill_value=0)\n",
    "ratings_matrix.head()"
   ]
  },
  {
   "cell_type": "code",
   "execution_count": 30,
   "metadata": {
    "execution": {
     "iopub.execute_input": "2022-12-05T06:52:00.107583Z",
     "iopub.status.busy": "2022-12-05T06:52:00.107177Z",
     "iopub.status.idle": "2022-12-05T06:52:00.114856Z",
     "shell.execute_reply": "2022-12-05T06:52:00.113737Z",
     "shell.execute_reply.started": "2022-12-05T06:52:00.107551Z"
    },
    "executionInfo": {
     "elapsed": 26,
     "status": "ok",
     "timestamp": 1670222633880,
     "user": {
      "displayName": "Ruturaj Ranpise",
      "userId": "13134967451216320931"
     },
     "user_tz": -330
    },
    "id": "CQxGfHjA8cPG",
    "outputId": "53c7ac3b-751c-4da8-8f1e-6310251ed14d"
   },
   "outputs": [
    {
     "data": {
      "text/plain": [
       "(9832, 76)"
      ]
     },
     "execution_count": 30,
     "metadata": {},
     "output_type": "execute_result"
    }
   ],
   "source": [
    "ratings_matrix.shape"
   ]
  },
  {
   "cell_type": "code",
   "execution_count": 31,
   "metadata": {
    "execution": {
     "iopub.execute_input": "2022-12-05T06:52:00.118745Z",
     "iopub.status.busy": "2022-12-05T06:52:00.118408Z",
     "iopub.status.idle": "2022-12-05T06:52:00.140576Z",
     "shell.execute_reply": "2022-12-05T06:52:00.139604Z",
     "shell.execute_reply.started": "2022-12-05T06:52:00.118715Z"
    },
    "executionInfo": {
     "elapsed": 24,
     "status": "ok",
     "timestamp": 1670222633880,
     "user": {
      "displayName": "Ruturaj Ranpise",
      "userId": "13134967451216320931"
     },
     "user_tz": -330
    },
    "id": "74c_vpCo8cMr",
    "outputId": "6810570a-dc56-441b-b14f-9f508495609a"
   },
   "outputs": [
    {
     "data": {
      "text/html": [
       "<div>\n",
       "<style scoped>\n",
       "    .dataframe tbody tr th:only-of-type {\n",
       "        vertical-align: middle;\n",
       "    }\n",
       "\n",
       "    .dataframe tbody tr th {\n",
       "        vertical-align: top;\n",
       "    }\n",
       "\n",
       "    .dataframe thead th {\n",
       "        text-align: right;\n",
       "    }\n",
       "</style>\n",
       "<table border=\"1\" class=\"dataframe\">\n",
       "  <thead>\n",
       "    <tr style=\"text-align: right;\">\n",
       "      <th>userId</th>\n",
       "      <th>A01852072Z7B68UHLI5UG</th>\n",
       "      <th>A0266076X6KPZ6CCHGVS</th>\n",
       "      <th>A0293130VTX2ZXA70JQS</th>\n",
       "      <th>A030530627MK66BD8V4LN</th>\n",
       "      <th>A0571176384K8RBNKGF8O</th>\n",
       "      <th>A0590501PZ7HOWJKBGQ4</th>\n",
       "      <th>A0641581307AKT5MAOU0Q</th>\n",
       "      <th>A076219533YHEV2LJO988</th>\n",
       "      <th>A0821988FXKFYX53V4QG</th>\n",
       "      <th>A099626739FNCRNHIKBCG</th>\n",
       "      <th>...</th>\n",
       "      <th>AZWOPBY75SGAM</th>\n",
       "      <th>AZX0ZDVAFMN78</th>\n",
       "      <th>AZX5LAN9JEAFF</th>\n",
       "      <th>AZX7I110AF0W2</th>\n",
       "      <th>AZXKUK895VGSM</th>\n",
       "      <th>AZXP46IB63PU8</th>\n",
       "      <th>AZYTSU42BZ7TP</th>\n",
       "      <th>AZZGJ2KMWB7R</th>\n",
       "      <th>AZZMV5VT9W7Y8</th>\n",
       "      <th>AZZST8OYL5P4Q</th>\n",
       "    </tr>\n",
       "    <tr>\n",
       "      <th>productId</th>\n",
       "      <th></th>\n",
       "      <th></th>\n",
       "      <th></th>\n",
       "      <th></th>\n",
       "      <th></th>\n",
       "      <th></th>\n",
       "      <th></th>\n",
       "      <th></th>\n",
       "      <th></th>\n",
       "      <th></th>\n",
       "      <th></th>\n",
       "      <th></th>\n",
       "      <th></th>\n",
       "      <th></th>\n",
       "      <th></th>\n",
       "      <th></th>\n",
       "      <th></th>\n",
       "      <th></th>\n",
       "      <th></th>\n",
       "      <th></th>\n",
       "      <th></th>\n",
       "    </tr>\n",
       "  </thead>\n",
       "  <tbody>\n",
       "    <tr>\n",
       "      <th>0972683275</th>\n",
       "      <td>0</td>\n",
       "      <td>0</td>\n",
       "      <td>5</td>\n",
       "      <td>4</td>\n",
       "      <td>0</td>\n",
       "      <td>0</td>\n",
       "      <td>0</td>\n",
       "      <td>0</td>\n",
       "      <td>0</td>\n",
       "      <td>0</td>\n",
       "      <td>...</td>\n",
       "      <td>0</td>\n",
       "      <td>0</td>\n",
       "      <td>0</td>\n",
       "      <td>0</td>\n",
       "      <td>0</td>\n",
       "      <td>0</td>\n",
       "      <td>0</td>\n",
       "      <td>0</td>\n",
       "      <td>0</td>\n",
       "      <td>0</td>\n",
       "    </tr>\n",
       "    <tr>\n",
       "      <th>1400501466</th>\n",
       "      <td>0</td>\n",
       "      <td>0</td>\n",
       "      <td>0</td>\n",
       "      <td>0</td>\n",
       "      <td>0</td>\n",
       "      <td>0</td>\n",
       "      <td>0</td>\n",
       "      <td>0</td>\n",
       "      <td>0</td>\n",
       "      <td>0</td>\n",
       "      <td>...</td>\n",
       "      <td>0</td>\n",
       "      <td>0</td>\n",
       "      <td>0</td>\n",
       "      <td>0</td>\n",
       "      <td>0</td>\n",
       "      <td>0</td>\n",
       "      <td>0</td>\n",
       "      <td>0</td>\n",
       "      <td>0</td>\n",
       "      <td>0</td>\n",
       "    </tr>\n",
       "    <tr>\n",
       "      <th>1400501520</th>\n",
       "      <td>0</td>\n",
       "      <td>0</td>\n",
       "      <td>0</td>\n",
       "      <td>0</td>\n",
       "      <td>0</td>\n",
       "      <td>0</td>\n",
       "      <td>0</td>\n",
       "      <td>0</td>\n",
       "      <td>0</td>\n",
       "      <td>3</td>\n",
       "      <td>...</td>\n",
       "      <td>0</td>\n",
       "      <td>0</td>\n",
       "      <td>0</td>\n",
       "      <td>0</td>\n",
       "      <td>0</td>\n",
       "      <td>0</td>\n",
       "      <td>0</td>\n",
       "      <td>0</td>\n",
       "      <td>0</td>\n",
       "      <td>0</td>\n",
       "    </tr>\n",
       "    <tr>\n",
       "      <th>1400501776</th>\n",
       "      <td>0</td>\n",
       "      <td>0</td>\n",
       "      <td>0</td>\n",
       "      <td>0</td>\n",
       "      <td>0</td>\n",
       "      <td>0</td>\n",
       "      <td>0</td>\n",
       "      <td>0</td>\n",
       "      <td>0</td>\n",
       "      <td>0</td>\n",
       "      <td>...</td>\n",
       "      <td>0</td>\n",
       "      <td>0</td>\n",
       "      <td>0</td>\n",
       "      <td>0</td>\n",
       "      <td>0</td>\n",
       "      <td>0</td>\n",
       "      <td>0</td>\n",
       "      <td>0</td>\n",
       "      <td>1</td>\n",
       "      <td>0</td>\n",
       "    </tr>\n",
       "    <tr>\n",
       "      <th>1400532620</th>\n",
       "      <td>0</td>\n",
       "      <td>0</td>\n",
       "      <td>0</td>\n",
       "      <td>0</td>\n",
       "      <td>0</td>\n",
       "      <td>0</td>\n",
       "      <td>0</td>\n",
       "      <td>0</td>\n",
       "      <td>0</td>\n",
       "      <td>0</td>\n",
       "      <td>...</td>\n",
       "      <td>0</td>\n",
       "      <td>0</td>\n",
       "      <td>0</td>\n",
       "      <td>0</td>\n",
       "      <td>0</td>\n",
       "      <td>0</td>\n",
       "      <td>0</td>\n",
       "      <td>0</td>\n",
       "      <td>0</td>\n",
       "      <td>0</td>\n",
       "    </tr>\n",
       "  </tbody>\n",
       "</table>\n",
       "<p>5 rows × 9832 columns</p>\n",
       "</div>"
      ],
      "text/plain": [
       "userId      A01852072Z7B68UHLI5UG  A0266076X6KPZ6CCHGVS  A0293130VTX2ZXA70JQS  \\\n",
       "productId                                                                       \n",
       "0972683275                      0                     0                     5   \n",
       "1400501466                      0                     0                     0   \n",
       "1400501520                      0                     0                     0   \n",
       "1400501776                      0                     0                     0   \n",
       "1400532620                      0                     0                     0   \n",
       "\n",
       "userId      A030530627MK66BD8V4LN  A0571176384K8RBNKGF8O  \\\n",
       "productId                                                  \n",
       "0972683275                      4                      0   \n",
       "1400501466                      0                      0   \n",
       "1400501520                      0                      0   \n",
       "1400501776                      0                      0   \n",
       "1400532620                      0                      0   \n",
       "\n",
       "userId      A0590501PZ7HOWJKBGQ4  A0641581307AKT5MAOU0Q  \\\n",
       "productId                                                 \n",
       "0972683275                     0                      0   \n",
       "1400501466                     0                      0   \n",
       "1400501520                     0                      0   \n",
       "1400501776                     0                      0   \n",
       "1400532620                     0                      0   \n",
       "\n",
       "userId      A076219533YHEV2LJO988  A0821988FXKFYX53V4QG  \\\n",
       "productId                                                 \n",
       "0972683275                      0                     0   \n",
       "1400501466                      0                     0   \n",
       "1400501520                      0                     0   \n",
       "1400501776                      0                     0   \n",
       "1400532620                      0                     0   \n",
       "\n",
       "userId      A099626739FNCRNHIKBCG  ...  AZWOPBY75SGAM  AZX0ZDVAFMN78  \\\n",
       "productId                          ...                                 \n",
       "0972683275                      0  ...              0              0   \n",
       "1400501466                      0  ...              0              0   \n",
       "1400501520                      3  ...              0              0   \n",
       "1400501776                      0  ...              0              0   \n",
       "1400532620                      0  ...              0              0   \n",
       "\n",
       "userId      AZX5LAN9JEAFF  AZX7I110AF0W2  AZXKUK895VGSM  AZXP46IB63PU8  \\\n",
       "productId                                                                \n",
       "0972683275              0              0              0              0   \n",
       "1400501466              0              0              0              0   \n",
       "1400501520              0              0              0              0   \n",
       "1400501776              0              0              0              0   \n",
       "1400532620              0              0              0              0   \n",
       "\n",
       "userId      AZYTSU42BZ7TP  AZZGJ2KMWB7R  AZZMV5VT9W7Y8  AZZST8OYL5P4Q  \n",
       "productId                                                              \n",
       "0972683275              0             0              0              0  \n",
       "1400501466              0             0              0              0  \n",
       "1400501520              0             0              0              0  \n",
       "1400501776              0             0              1              0  \n",
       "1400532620              0             0              0              0  \n",
       "\n",
       "[5 rows x 9832 columns]"
      ]
     },
     "execution_count": 31,
     "metadata": {},
     "output_type": "execute_result"
    }
   ],
   "source": [
    "X = ratings_matrix.T\n",
    "X.head()"
   ]
  },
  {
   "cell_type": "code",
   "execution_count": 32,
   "metadata": {
    "execution": {
     "iopub.execute_input": "2022-12-05T06:52:00.142821Z",
     "iopub.status.busy": "2022-12-05T06:52:00.141719Z",
     "iopub.status.idle": "2022-12-05T06:52:00.615456Z",
     "shell.execute_reply": "2022-12-05T06:52:00.613527Z",
     "shell.execute_reply.started": "2022-12-05T06:52:00.142777Z"
    },
    "executionInfo": {
     "elapsed": 25,
     "status": "ok",
     "timestamp": 1670222633881,
     "user": {
      "displayName": "Ruturaj Ranpise",
      "userId": "13134967451216320931"
     },
     "user_tz": -330
    },
    "id": "Mo3fcYIf-0YZ",
    "outputId": "0d4599ce-8556-44eb-ea92-1052911fb6c4"
   },
   "outputs": [
    {
     "data": {
      "text/plain": [
       "(76, 10)"
      ]
     },
     "execution_count": 32,
     "metadata": {},
     "output_type": "execute_result"
    }
   ],
   "source": [
    "#Decomposing the Matrix\n",
    "from sklearn.decomposition import TruncatedSVD\n",
    "SVD = TruncatedSVD(n_components=10)\n",
    "decomposed_matrix = SVD.fit_transform(X)\n",
    "decomposed_matrix.shape"
   ]
  },
  {
   "cell_type": "code",
   "execution_count": 33,
   "metadata": {
    "execution": {
     "iopub.execute_input": "2022-12-05T06:52:00.618196Z",
     "iopub.status.busy": "2022-12-05T06:52:00.617711Z",
     "iopub.status.idle": "2022-12-05T06:52:00.638389Z",
     "shell.execute_reply": "2022-12-05T06:52:00.635609Z",
     "shell.execute_reply.started": "2022-12-05T06:52:00.618154Z"
    },
    "executionInfo": {
     "elapsed": 23,
     "status": "ok",
     "timestamp": 1670222633881,
     "user": {
      "displayName": "Ruturaj Ranpise",
      "userId": "13134967451216320931"
     },
     "user_tz": -330
    },
    "id": "6HBx2nEm-pN8",
    "outputId": "dbb20d3c-05b6-4791-8eed-085c578ab14d"
   },
   "outputs": [
    {
     "data": {
      "text/plain": [
       "(76, 76)"
      ]
     },
     "execution_count": 33,
     "metadata": {},
     "output_type": "execute_result"
    }
   ],
   "source": [
    "correlation_matrix = np.corrcoef(decomposed_matrix)\n",
    "correlation_matrix.shape"
   ]
  },
  {
   "cell_type": "code",
   "execution_count": 34,
   "metadata": {
    "execution": {
     "iopub.execute_input": "2022-12-05T06:52:00.640884Z",
     "iopub.status.busy": "2022-12-05T06:52:00.64032Z",
     "iopub.status.idle": "2022-12-05T06:52:00.651592Z",
     "shell.execute_reply": "2022-12-05T06:52:00.650028Z",
     "shell.execute_reply.started": "2022-12-05T06:52:00.640841Z"
    },
    "executionInfo": {
     "elapsed": 22,
     "status": "ok",
     "timestamp": 1670222633881,
     "user": {
      "displayName": "Ruturaj Ranpise",
      "userId": "13134967451216320931"
     },
     "user_tz": -330
    },
    "id": "2kplSLMv--YC",
    "outputId": "97b0cd06-7ac0-47fc-85f3-9c066f622873"
   },
   "outputs": [
    {
     "data": {
      "text/plain": [
       "'B00000K135'"
      ]
     },
     "execution_count": 34,
     "metadata": {},
     "output_type": "execute_result"
    }
   ],
   "source": [
    "X.index[75]"
   ]
  },
  {
   "cell_type": "code",
   "execution_count": 35,
   "metadata": {
    "execution": {
     "iopub.execute_input": "2022-12-05T06:52:00.654092Z",
     "iopub.status.busy": "2022-12-05T06:52:00.653539Z",
     "iopub.status.idle": "2022-12-05T06:52:00.667155Z",
     "shell.execute_reply": "2022-12-05T06:52:00.665788Z",
     "shell.execute_reply.started": "2022-12-05T06:52:00.65405Z"
    },
    "executionInfo": {
     "elapsed": 21,
     "status": "ok",
     "timestamp": 1670222633881,
     "user": {
      "displayName": "Ruturaj Ranpise",
      "userId": "13134967451216320931"
     },
     "user_tz": -330
    },
    "id": "cyu_tteD_K7P",
    "outputId": "0eb86919-b2e1-478f-c909-627c97c0df23"
   },
   "outputs": [
    {
     "data": {
      "text/plain": [
       "75"
      ]
     },
     "execution_count": 35,
     "metadata": {},
     "output_type": "execute_result"
    }
   ],
   "source": [
    "i = X.index[75]\n",
    "\n",
    "product_names = list(X.index)\n",
    "product_ID = product_names.index(i)\n",
    "product_ID"
   ]
  },
  {
   "cell_type": "code",
   "execution_count": 36,
   "metadata": {
    "execution": {
     "iopub.execute_input": "2022-12-05T06:52:00.670478Z",
     "iopub.status.busy": "2022-12-05T06:52:00.668857Z",
     "iopub.status.idle": "2022-12-05T06:52:00.68948Z",
     "shell.execute_reply": "2022-12-05T06:52:00.687643Z",
     "shell.execute_reply.started": "2022-12-05T06:52:00.670412Z"
    },
    "executionInfo": {
     "elapsed": 20,
     "status": "ok",
     "timestamp": 1670222633881,
     "user": {
      "displayName": "Ruturaj Ranpise",
      "userId": "13134967451216320931"
     },
     "user_tz": -330
    },
    "id": "kuAI_L2M_dg1",
    "outputId": "ee9731f8-1274-4659-d3a1-e5fe96ed8243"
   },
   "outputs": [
    {
     "data": {
      "text/plain": [
       "(76,)"
      ]
     },
     "execution_count": 36,
     "metadata": {},
     "output_type": "execute_result"
    }
   ],
   "source": [
    "correlation_product_ID = correlation_matrix[product_ID]\n",
    "correlation_product_ID.shape"
   ]
  },
  {
   "cell_type": "code",
   "execution_count": 37,
   "metadata": {
    "execution": {
     "iopub.execute_input": "2022-12-05T06:52:00.693033Z",
     "iopub.status.busy": "2022-12-05T06:52:00.692197Z",
     "iopub.status.idle": "2022-12-05T06:52:00.706722Z",
     "shell.execute_reply": "2022-12-05T06:52:00.704938Z",
     "shell.execute_reply.started": "2022-12-05T06:52:00.692972Z"
    },
    "executionInfo": {
     "elapsed": 17,
     "status": "ok",
     "timestamp": 1670222633882,
     "user": {
      "displayName": "Ruturaj Ranpise",
      "userId": "13134967451216320931"
     },
     "user_tz": -330
    },
    "id": "Goxw03RO_l8i",
    "outputId": "9afdcb5e-3414-43be-bc80-3e53901a8c27"
   },
   "outputs": [
    {
     "data": {
      "text/plain": [
       "['8862935293',\n",
       " '9983891212',\n",
       " 'B00000IGBF',\n",
       " 'B00000J0D2',\n",
       " 'B00000J1SC',\n",
       " 'B00000J1TX',\n",
       " 'B00000J3NF',\n",
       " 'B00000J3UJ',\n",
       " 'B00000JBAT',\n",
       " 'B00000JFE3',\n",
       " 'B00000JFIF',\n",
       " 'B00000JFMK',\n",
       " 'B00000JMUG']"
      ]
     },
     "execution_count": 37,
     "metadata": {},
     "output_type": "execute_result"
    }
   ],
   "source": [
    "Recommend = list(X.index[correlation_product_ID > 0.65])\n",
    "\n",
    "# Removes the item already bought by the customer\n",
    "Recommend.remove(i) \n",
    "\n",
    "Recommend[0:24]"
   ]
  },
  {
   "cell_type": "code",
   "execution_count": null,
   "metadata": {},
   "outputs": [],
   "source": []
  }
 ],
 "metadata": {
  "kernelspec": {
   "display_name": "Python 3 (ipykernel)",
   "language": "python",
   "name": "python3"
  },
  "language_info": {
   "codemirror_mode": {
    "name": "ipython",
    "version": 3
   },
   "file_extension": ".py",
   "mimetype": "text/x-python",
   "name": "python",
   "nbconvert_exporter": "python",
   "pygments_lexer": "ipython3",
   "version": "3.9.13"
  }
 },
 "nbformat": 4,
 "nbformat_minor": 4
}
